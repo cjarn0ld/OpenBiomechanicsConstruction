{
 "cells": [
  {
   "cell_type": "code",
   "execution_count": 1,
   "metadata": {},
   "outputs": [],
   "source": [
    "\n",
    "import numpy as np \n",
    "import os\n",
    "import sys\n",
    "import scipy as sp\n",
    "import matplotlib.pyplot as plt \n",
    "import pandas as pd\n",
    "import ezc3d\n",
    "import csv\n",
    "from itertools import cycle\n",
    "import pyc3dserver as c3d # windows only\n",
    "\n"
   ]
  },
  {
   "cell_type": "code",
   "execution_count": 11,
   "metadata": {},
   "outputs": [
    {
     "name": "stdout",
     "output_type": "stream",
     "text": [
      "dict_keys(['header', 'parameters', 'data'])\n",
      "dict_keys(['points', 'analogs', 'events'])\n",
      "dict_keys(['size', 'frame_rate', 'first_frame', 'last_frame'])\n",
      "{'size': 45, 'frame_rate': 360.0, 'first_frame': 0, 'last_frame': 725}\n",
      "['C7', 'CLAV', 'LANK', 'LASI', 'LBHD', 'LELB', 'LFHD', 'LFIN', 'LFRM', 'LHEE', 'LKNE', 'LMANK', 'LMELB', 'LMKNE', 'LPSI', 'LSHO', 'LTHI', 'LTIB', 'LTOE', 'LUPA', 'LWRA', 'LWRB', 'RANK', 'RASI', 'RBAK', 'RBHD', 'RELB', 'RFHD', 'RFIN', 'RFRM', 'RHEE', 'RKNE', 'RMANK', 'RMELB', 'RMKNE', 'RPSI', 'RSHO', 'RTHI', 'RTIB', 'RTOE', 'RUPA', 'RWRA', 'RWRB', 'STRN', 'T10']\n"
     ]
    }
   ],
   "source": [
    "# c = ezc3d.c3d(<'path to your c3d file'>)\n",
    "\n",
    "file = r'C:\\Users\\User\\Desktop\\000002\\000002_003034_73_207_002_FF_809.c3d'\n",
    "\n",
    "data = ezc3d.c3d(file)\n",
    "\n",
    "# Print the keys of the loaded data\n",
    "print(data.keys())\n",
    "\n",
    "# Access header information\n",
    "print(data['header'].keys())\n",
    "\n",
    "# Access point-related information in the header\n",
    "print(data['header']['points'].keys())\n",
    "print(data['header']['points'])\n",
    "\n",
    "# Access marker labels\n",
    "print(data['parameters']['POINT']['LABELS']['value'])\n"
   ]
  },
  {
   "cell_type": "code",
   "execution_count": 30,
   "metadata": {},
   "outputs": [
    {
     "name": "stdout",
     "output_type": "stream",
     "text": [
      "Conversion to csv is complete.\n"
     ]
    }
   ],
   "source": [
    "\n",
    "\n",
    "def c3d_to_csv(c3d_file, csv_file):\n",
    "    # Extract point data from C3D file\n",
    "    data = ezc3d.c3d(c3d_file)\n",
    "    points = data['data']['points']\n",
    "\n",
    "    # Specify the path to save the CSV file\n",
    "    csv_file = csv_file\n",
    "\n",
    "    # Write point data to CSV file\n",
    "    with open(csv_file, 'w', newline='') as file:\n",
    "        writer = csv.writer(file)\n",
    "\n",
    "        # Write column headers\n",
    "        header_row = []\n",
    "        for label in labels:\n",
    "            header_row.extend([f'{label}x', f'{label}y', f'{label}z'])\n",
    "        writer.writerow(header_row)\n",
    "\n",
    "        # Write point data rows\n",
    "        for frame in range(points.shape[2]):\n",
    "            row = points[:, :, frame].flatten()\n",
    "            writer.writerow(row)\n",
    "\n",
    "    print('Conversion to csv is complete.')\n",
    "\n",
    "c3d_file = r'C:\\Users\\User\\Desktop\\000002\\000002_003034_73_207_002_FF_809.c3d'\n",
    "csv_file = r'C:\\Users\\User\\Desktop\\0000002_003034_73_207_002_FF_809.csv'\n",
    "\n",
    "\n",
    "c3d_to_csv(c3d_file, csv_file)\n"
   ]
  },
  {
   "cell_type": "code",
   "execution_count": 33,
   "metadata": {},
   "outputs": [
    {
     "name": "stdout",
     "output_type": "stream",
     "text": [
      "Conversion to csv is complete.\n"
     ]
    }
   ],
   "source": [
    "c3d_file1 = r'C:\\Users\\User\\Desktop\\000002\\000002_003034_model.c3d'\n",
    "csv_file1 = r'C:\\Users\\User\\Desktop\\0000002_003034_model.csv'\n",
    "c3d_to_csv(c3d_file1, csv_file1)"
   ]
  },
  {
   "cell_type": "code",
   "execution_count": null,
   "metadata": {},
   "outputs": [],
   "source": []
  },
  {
   "cell_type": "code",
   "execution_count": 7,
   "metadata": {},
   "outputs": [
    {
     "name": "stdout",
     "output_type": "stream",
     "text": [
      "45 <class 'int'>\n",
      "(45,)\n",
      "(4, 45, 726)\n"
     ]
    }
   ],
   "source": [
    "x = data['header']['points']['size'] # number of markers\n",
    "print(x, type(x)) # print number of markers and type\n",
    "\n",
    "#access marker names\n",
    "list_names = data['parameters']['POINT']['LABELS']['value']\n",
    "print(np.shape(list_names))\n",
    "#access marker data\n",
    "list_data = data['data']['points']\n",
    "print(list_data.shape)\n",
    "#print(data['data']['points'][1][0][0].shape)\n",
    "#print(data['data']['points'][:][0][0])\n"
   ]
  },
  {
   "cell_type": "code",
   "execution_count": 114,
   "metadata": {},
   "outputs": [
    {
     "name": "stdout",
     "output_type": "stream",
     "text": [
      "dict_keys(['size', 'frame_rate', 'first_frame', 'last_frame'])\n",
      "0\n",
      "725\n"
     ]
    }
   ],
   "source": [
    "print(data['header']['points'].keys())\n",
    "print(data['header']['points']['first_frame'])\n",
    "print(data['header']['points']['last_frame']) #frames go from 0-725 726 indicies\n",
    "\n",
    "print(data['data'].keys())\n",
    "data1 = np.array(data['data']['points']).T\n",
    "print(data1.shape)\n",
    "print(data1[:][1][3])\n"
   ]
  },
  {
   "cell_type": "code",
   "execution_count": 41,
   "metadata": {},
   "outputs": [
    {
     "data": {
      "text/plain": [
       "Index(['C7x', 'C7y', 'C7z', 'CLAVx', 'CLAVy', 'CLAVz', 'LANKx', 'LANKy',\n",
       "       'LANKz', 'LASIx',\n",
       "       ...\n",
       "       'RWRAz', 'RWRBx', 'RWRBy', 'RWRBz', 'STRNx', 'STRNy', 'STRNz', 'T10x',\n",
       "       'T10y', 'T10z'],\n",
       "      dtype='object', length=135)"
      ]
     },
     "execution_count": 41,
     "metadata": {},
     "output_type": "execute_result"
    }
   ],
   "source": []
  },
  {
   "cell_type": "code",
   "execution_count": 65,
   "metadata": {},
   "outputs": [
    {
     "name": "stdout",
     "output_type": "stream",
     "text": [
      "0      0.120232\n",
      "1      0.120622\n",
      "2      0.121025\n",
      "3      0.121295\n",
      "4      0.121754\n",
      "         ...   \n",
      "721    1.545019\n",
      "722    1.543518\n",
      "723    1.542375\n",
      "724    1.540757\n",
      "725    1.539075\n",
      "Name: LANKx, Length: 726, dtype: float64\n"
     ]
    }
   ],
   "source": []
  },
  {
   "cell_type": "code",
   "execution_count": 167,
   "metadata": {},
   "outputs": [],
   "source": []
  },
  {
   "cell_type": "code",
   "execution_count": 190,
   "metadata": {},
   "outputs": [],
   "source": []
  },
  {
   "cell_type": "code",
   "execution_count": 191,
   "metadata": {},
   "outputs": [
    {
     "name": "stdout",
     "output_type": "stream",
     "text": [
      "(726, 3)\n"
     ]
    }
   ],
   "source": []
  },
  {
   "cell_type": "code",
   "execution_count": 205,
   "metadata": {},
   "outputs": [
    {
     "name": "stdout",
     "output_type": "stream",
     "text": [
      "(3, 3, 726)\n",
      "[[[ 1.33134117e-01  1.34493271e-01  1.35852077e-01 ...  5.32398068e-04\n",
      "   -8.02908014e-04 -2.19383527e-03]\n",
      "  [ 1.39284614e-01  1.39423936e-01  1.39453998e-01 ... -1.32527173e-01\n",
      "   -1.33495047e-01 -1.34131631e-01]\n",
      "  [-2.43012915e-01 -2.44317295e-01 -2.45503732e-01 ...  1.24004971e-01\n",
      "    1.25999073e-01  1.27729322e-01]]\n",
      "\n",
      " [[ 2.71699777e-01  2.72941520e-01  2.74013056e-01 ... -1.40503976e-01\n",
      "   -1.42126175e-01 -1.43407992e-01]\n",
      "  [-1.29615613e-01 -1.30205520e-01 -1.30821023e-01 ...  7.81955649e-02\n",
      "    8.01953401e-02  8.20712321e-02]\n",
      "  [ 7.45600258e-02  7.59464516e-02  7.73174732e-02 ...  8.41727649e-02\n",
      "    8.40606697e-02  8.37218469e-02]]\n",
      "\n",
      " [[-2.19517213e-01 -2.18299253e-01 -2.17313536e-01 ... -6.33005606e-01\n",
      "   -6.32875547e-01 -6.32821025e-01]\n",
      "  [-7.89695373e-01 -7.90988220e-01 -7.92205145e-01 ... -5.30282075e-01\n",
      "   -5.29426777e-01 -5.28512528e-01]\n",
      "  [-5.72881673e-01 -5.71561959e-01 -5.70250678e-01 ... -5.64007823e-01\n",
      "   -5.64956485e-01 -5.65872828e-01]]]\n"
     ]
    },
    {
     "data": {
      "text/plain": [
       "array([[[ 1.33134117e-01,  1.34493271e-01,  1.35852077e-01, ...,\n",
       "          5.32398068e-04, -8.02908014e-04, -2.19383527e-03],\n",
       "        [ 1.39284614e-01,  1.39423936e-01,  1.39453998e-01, ...,\n",
       "         -1.32527173e-01, -1.33495047e-01, -1.34131631e-01],\n",
       "        [-2.43012915e-01, -2.44317295e-01, -2.45503732e-01, ...,\n",
       "          1.24004971e-01,  1.25999073e-01,  1.27729322e-01]],\n",
       "\n",
       "       [[ 2.71699777e-01,  2.72941520e-01,  2.74013056e-01, ...,\n",
       "         -1.40503976e-01, -1.42126175e-01, -1.43407992e-01],\n",
       "        [-1.29615613e-01, -1.30205520e-01, -1.30821023e-01, ...,\n",
       "          7.81955649e-02,  8.01953401e-02,  8.20712321e-02],\n",
       "        [ 7.45600258e-02,  7.59464516e-02,  7.73174732e-02, ...,\n",
       "          8.41727649e-02,  8.40606697e-02,  8.37218469e-02]],\n",
       "\n",
       "       [[-2.19517213e-01, -2.18299253e-01, -2.17313536e-01, ...,\n",
       "         -6.33005606e-01, -6.32875547e-01, -6.32821025e-01],\n",
       "        [-7.89695373e-01, -7.90988220e-01, -7.92205145e-01, ...,\n",
       "         -5.30282075e-01, -5.29426777e-01, -5.28512528e-01],\n",
       "        [-5.72881673e-01, -5.71561959e-01, -5.70250678e-01, ...,\n",
       "         -5.64007823e-01, -5.64956485e-01, -5.65872828e-01]]])"
      ]
     },
     "execution_count": 205,
     "metadata": {},
     "output_type": "execute_result"
    }
   ],
   "source": []
  },
  {
   "cell_type": "code",
   "execution_count": 204,
   "metadata": {},
   "outputs": [
    {
     "ename": "UnboundLocalError",
     "evalue": "local variable 'pelvis' referenced before assignment",
     "output_type": "error",
     "traceback": [
      "\u001b[1;31m---------------------------------------------------------------------------\u001b[0m",
      "\u001b[1;31mUnboundLocalError\u001b[0m                         Traceback (most recent call last)",
      "Cell \u001b[1;32mIn[204], line 1\u001b[0m\n\u001b[1;32m----> 1\u001b[0m pelvis(RASI,LASI,T10)\n",
      "Cell \u001b[1;32mIn[203], line 22\u001b[0m, in \u001b[0;36mpelvis\u001b[1;34m(Rasis, Lasis, sacrum)\u001b[0m\n\u001b[0;32m     20\u001b[0m v2 \u001b[39m=\u001b[39m np\u001b[39m.\u001b[39marray(V2)\n\u001b[0;32m     21\u001b[0m \u001b[39m#print([v1.shape,v2.shape,v3.shape])\u001b[39;00m\n\u001b[1;32m---> 22\u001b[0m \u001b[39mprint\u001b[39m(pelvis\u001b[39m.\u001b[39mshape)\n\u001b[0;32m     23\u001b[0m pelvis \u001b[39m=\u001b[39m np\u001b[39m.\u001b[39marray([v1\u001b[39m.\u001b[39mT,v2\u001b[39m.\u001b[39mT,v3\u001b[39m.\u001b[39mT])\n\u001b[0;32m     24\u001b[0m \u001b[39mprint\u001b[39m(pelvis)\n",
      "\u001b[1;31mUnboundLocalError\u001b[0m: local variable 'pelvis' referenced before assignment"
     ]
    }
   ],
   "source": [
    "\n"
   ]
  },
  {
   "cell_type": "code",
   "execution_count": null,
   "metadata": {},
   "outputs": [],
   "source": []
  }
 ],
 "metadata": {
  "kernelspec": {
   "display_name": "base",
   "language": "python",
   "name": "python3"
  },
  "language_info": {
   "codemirror_mode": {
    "name": "ipython",
    "version": 3
   },
   "file_extension": ".py",
   "mimetype": "text/x-python",
   "name": "python",
   "nbconvert_exporter": "python",
   "pygments_lexer": "ipython3",
   "version": "3.10.9"
  },
  "orig_nbformat": 4
 },
 "nbformat": 4,
 "nbformat_minor": 2
}
